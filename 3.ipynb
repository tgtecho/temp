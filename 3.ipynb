{
 "cells": [
  {
   "cell_type": "markdown",
   "id": "15252e31",
   "metadata": {},
   "source": [
    "#### （一）定义三个变量，分别存储中国软件2019年第一季度的净利润、期初净资产和期末净资产。计算净资产收益率，保留4位小数输出计算结果。"
   ]
  },
  {
   "cell_type": "code",
   "execution_count": 3,
   "id": "d9b14234",
   "metadata": {},
   "outputs": [
    {
     "name": "stdout",
     "output_type": "stream",
     "text": [
      "中国软件2020年第二季度净资产收益率为-0.0501\n"
     ]
    }
   ],
   "source": [
    "netProfit=-126953000.73            # 净利润变量\n",
    "beginNetAssets=2605401549.65       # 期初净资产变量\n",
    "endNetAssets=2459515585.24         # 期末净资产变量\n",
    "ROE=netProfit/((beginNetAssets+endNetAssets)/2)\n",
    "\n",
    "print('中国软件2020年第二季度净资产收益率为{:.4f}'.format(ROE)) "
   ]
  },
  {
   "cell_type": "markdown",
   "id": "725fd396",
   "metadata": {},
   "source": [
    "#### （二）定义三个变量，用以存储从键盘输入的中国软件2019年第一季度的净利润、期初净资产和期末净资产，计算净资产收益率，保留4位小数输出计算结果。"
   ]
  },
  {
   "cell_type": "code",
   "execution_count": null,
   "id": "ac31735c",
   "metadata": {},
   "outputs": [],
   "source": [
    "# 使用input接收键盘输入\n",
    "netProfit=float(input('请输入中国软件2019年第一季度的净利润：'))      \n",
    "beginNetAssets=float(input('请输入中国软件2019年第一季度的期初净资产：'))\n",
    "endNetAssets=float(input('请输入中国软件2019年第一季度的期末净资产：'))\n",
    "\n",
    "# 计算净资产收益率\n",
    "ROE=netProfit/((beginNetAssets+endNetAssets)/2)\n",
    "print('中国软件2019年第一季度净资产收益率={:.4f}'.format(ROE))"
   ]
  },
  {
   "cell_type": "markdown",
   "id": "629b48b9",
   "metadata": {},
   "source": [
    "#### （三）定义一个列表变量，包含中国软件2019年第一季度的净利润、期初净资产和期末净资产三个元素。计算净资产收益率，以保留2位小数的百分比形式输出计算结果。"
   ]
  },
  {
   "cell_type": "code",
   "execution_count": 4,
   "id": "d8b633f5",
   "metadata": {},
   "outputs": [
    {
     "name": "stdout",
     "output_type": "stream",
     "text": [
      "中国软件2019年第一季度的净资产收益率： -5.01%\n"
     ]
    }
   ],
   "source": [
    "cSoftList=[-126953000.73, 2605401549.65, 2459515585.24]\n",
    "cSoftROE=(cSoftList[0]/((cSoftList[1]+cSoftList[2])/2))\n",
    "\n",
    "# 将净资产收益率的值用百分比的格式显示，小数点后保留两位\n",
    "ROEPercent='{:.2%}'.format(cSoftROE)     # 构造格式字符串\n",
    "print(\"中国软件2019年第一季度的净资产收益率：\",ROEPercent)"
   ]
  },
  {
   "cell_type": "markdown",
   "id": "8088592f",
   "metadata": {},
   "source": [
    "#### （四）定义一个字典变量，包含中国软件2019年第一季度的净利润、期初净资产和期末净资产三个键值对。计算净资产收益率，以保留2位小数的百分比形式输出计算结果。"
   ]
  },
  {
   "cell_type": "code",
   "execution_count": 5,
   "id": "fde8e5dc",
   "metadata": {},
   "outputs": [
    {
     "name": "stdout",
     "output_type": "stream",
     "text": [
      "中国软件2019年第一季度的净资产收益率: -5.01%\n"
     ]
    }
   ],
   "source": [
    "cSoftDict={\"profit\":-126953000.73,\"beginAsset\":2605401549.65,\"endAsset\":2459515585.24}\n",
    "\n",
    "# 根据净资产收益率的计算公式计算中国软件2019年的净资产收益率\n",
    "cSoftROE= cSoftDict[\"profit\"] / ((cSoftDict[\"beginAsset\"] + cSoftDict[\"endAsset\"]) / 2)\n",
    "\n",
    "# 将净资产收益率的值用百分比的格式显示，小数点后保留两位\n",
    "cSoftROEPercent=\"{:.2%}\".format(cSoftROE)\n",
    "print(\"中国软件2019年第一季度的净资产收益率:\",cSoftROEPercent)"
   ]
  }
 ],
 "metadata": {
  "kernelspec": {
   "display_name": "Python 3",
   "language": "python",
   "name": "python3"
  },
  "language_info": {
   "codemirror_mode": {
    "name": "ipython",
    "version": 3
   },
   "file_extension": ".py",
   "mimetype": "text/x-python",
   "name": "python",
   "nbconvert_exporter": "python",
   "pygments_lexer": "ipython3",
   "version": "3.9.5"
  }
 },
 "nbformat": 4,
 "nbformat_minor": 5
}
